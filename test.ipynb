{
 "cells": [
  {
   "cell_type": "code",
   "execution_count": 1,
   "metadata": {},
   "outputs": [],
   "source": [
    "# pyenv activate cw\n",
    "import sys\n",
    "import time\n",
    "import os\n",
    "import numpy as np\n",
    "import chipwhisperer as cw\n",
    "from tqdm.notebook import tqdm\n",
    "import serial\n",
    "import matplotlib.pyplot as plt\n",
    "\n",
    "ser = 0"
   ]
  },
  {
   "cell_type": "code",
   "execution_count": 6,
   "metadata": {},
   "outputs": [
    {
     "name": "stdout",
     "output_type": "stream",
     "text": [
      "Connecting to CW_Lite.\n",
      "INFO: Found ChipWhisperer😍\n"
     ]
    }
   ],
   "source": [
    "# disable logging\n",
    "cw.set_all_log_levels(cw.logging.CRITICAL)\n",
    "\n",
    "# ------------------------------\n",
    "# Initiate Connection to the Chipwhisperer Lite Kit\n",
    "print(\"Connecting to CW_Lite.\")\n",
    "scope = cw.scope()\n",
    "try:\n",
    "    if not scope.connectStatus:\n",
    "        scope.con()\n",
    "except NameError:\n",
    "    scope = cw.scope()\n",
    "print(\"INFO: Found ChipWhisperer😍\")\n",
    "time.sleep(0.05)\n",
    "# scope.default_setup()"
   ]
  },
  {
   "cell_type": "code",
   "execution_count": 9,
   "metadata": {},
   "outputs": [
    {
     "name": "stdout",
     "output_type": "stream",
     "text": [
      "1\n"
     ]
    }
   ],
   "source": [
    "target = cw.target(scope)\n",
    "# Original attack done with 100 MHz clock - can be helpful to run this\n",
    "# 2x faster to get better resolution, which seems useful for glitching certain boards.\n",
    "# But if you want to use DPA you need to leave this set to '1'\n",
    "freq_multiplier = 1\n",
    "\n",
    "#Initial Setup\n",
    "scope.adc.samples = 10000\n",
    "scope.adc.offset = 0\n",
    "scope.clock.adc_src = \"clkgen_x1\"\n",
    "scope.trigger.triggers = \"tio4\"\n",
    "\n",
    "# this value is for CW-Lite/Pro; for CW-Husky, refer to Fault 1_1\n",
    "scope.glitch.width = 40\n",
    "scope.io.tio1 = \"serial_rx\"\n",
    "scope.io.tio2 = \"serial_tx\"\n",
    "scope.adc.basic_mode = \"rising_edge\"\n",
    "scope.clock.clkgen_freq = 100000000 * freq_multiplier\n",
    "scope.glitch.clk_src = \"clkgen\"\n",
    "scope.glitch.trigger_src = \"ext_single\"\n",
    "scope.glitch.output = \"enable_only\"\n",
    "\n",
    "# For use with the ChipShouter Pico\n",
    "\n",
    "# Disable the glitch mosfet and route the glitch signal to hs2\n",
    "# Connect HS2 to the ChipShouter Pico HVP pin\n",
    "scope.io.glitch_lp = False\n",
    "scope.io.glitch_hp = False\n",
    "scope.io.hs2 = None\n",
    "scope.io.hs2 = \"glitch\"\n",
    "# scope.glitch.ext_offset = 300         # Glitch offset from the external trigger (in cycles of the main CW clock)\n",
    "# scope.glitch.repeat = 100             # You might want to try different values for this parameter\n",
    "\n",
    "# Set tio3 to be an input\n",
    "# Connect tio3 to the CHG pin, this allows us to check if the ChipShouter is charged\n",
    "scope.io.tio3 = 'high_z'\n",
    "print(scope.io.tio_states[2])"
   ]
  },
  {
   "cell_type": "code",
   "execution_count": 10,
   "metadata": {},
   "outputs": [],
   "source": [
    "# Simple loop that blocks until the ChipShouter is charged\n",
    "def wait_for_hv():\n",
    "    while scope.io.tio_states[2] != 0:\n",
    "        time.sleep(0.1)"
   ]
  },
  {
   "cell_type": "code",
   "execution_count": 11,
   "metadata": {},
   "outputs": [],
   "source": [
    "# A very basic class to interact with the ChipShouter PicoEMP\n",
    "\n",
    "class ChipShouterPicoEMP:\n",
    "    def __init__(self, port='/dev/ttyACM1'):\n",
    "        self.pico = serial.Serial(port, 115200)\n",
    "        \n",
    "        self.pico.write(b'\\r\\n')\n",
    "        time.sleep(0.1)\n",
    "        ret = self.pico.read(self.pico.in_waiting)\n",
    "        \n",
    "        if b'PicoEMP Commands' in ret:\n",
    "            print('Connected to ChipSHOUTER PicoEMP!')\n",
    "        else:\n",
    "            raise OSError('Could not connect to ChipShouter PicoEMP :(')\n",
    "        \n",
    "\n",
    "    def disable_timeout(self):\n",
    "        self.pico.write(b'disable_timeout\\r\\n')\n",
    "        time.sleep(1)\n",
    "        assert b'Timeout disabled!' in self.pico.read(self.pico.in_waiting)\n",
    "\n",
    "        \n",
    "    def arm(self):\n",
    "        self.pico.write(b'arm\\r\\n')\n",
    "        time.sleep(1)\n",
    "        assert b'Device armed' in self.pico.read(self.pico.in_waiting)\n",
    "\n",
    "        \n",
    "    def disarm(self):\n",
    "        self.pico.write(b'disarm\\r\\n')\n",
    "        time.sleep(1)\n",
    "        assert b'Device disarmed!' in self.pico.read(self.pico.in_waiting)\n",
    "\n",
    "        \n",
    "    def external_hvp(self):\n",
    "        self.pico.write(b'external_hvp\\r\\n')\n",
    "        time.sleep(1)\n",
    "        assert b'External HVP mode active' in self.pico.read(self.pico.in_waiting)\n",
    "\n",
    "        \n",
    "    def print_status(self):\n",
    "        self.pico.write(b'status\\r\\n')\n",
    "        time.sleep(1)\n",
    "        print(self.pico.read(self.pico.in_waiting).decode('utf-8'))\n",
    "        \n",
    "    \n",
    "    def setup_external_control(self):\n",
    "        self.disable_timeout()\n",
    "        self.external_hvp()\n",
    "        self.print_status()"
   ]
  },
  {
   "cell_type": "code",
   "execution_count": 12,
   "metadata": {},
   "outputs": [
    {
     "name": "stdout",
     "output_type": "stream",
     "text": [
      "Connected to ChipSHOUTER PicoEMP!\n",
      "status\n",
      "Status:\n",
      "- Disarmed\n",
      "- Not charged\n",
      "- Timeout disabled\n",
      "- HVP external\n",
      "\n",
      "[status] > \n",
      "\n"
     ]
    }
   ],
   "source": [
    "# Change the serial port if needed!\n",
    "pico = ChipShouterPicoEMP('/dev/ttyACM0')\n",
    "pico.setup_external_control()"
   ]
  },
  {
   "cell_type": "code",
   "execution_count": 13,
   "metadata": {},
   "outputs": [],
   "source": [
    "# Simple function to reset the target microcontroller\n",
    "def reset_dut(delay=0.1):\n",
    "    scope.io.nrst = 'low'\n",
    "    scope.io.target_pwr = False\n",
    "    time.sleep(delay)\n",
    "    scope.io.target_pwr = True\n",
    "    scope.io.nrst = 'high'\n",
    "    time.sleep(0.05)"
   ]
  },
  {
   "cell_type": "code",
   "execution_count": null,
   "metadata": {},
   "outputs": [],
   "source": [
    "scope.glitch.repeat = 35\n",
    "offsets = np.arange(0, 500, 20)\n",
    "repeats = 10\n",
    "crashes = 0\n",
    "faults = 0\n",
    "\n",
    "pico.arm()\n",
    "\n",
    "for offset in tqdm(range(len(offsets))):\n",
    "    scope.glitch.ext_offset = offsets[offset]\n",
    "    \n",
    "    for i in range(repeats):\n",
    "        wait_for_hv() # Wait for the ChipShouter to be charged\n",
    "        \n",
    "        scope.arm()\n",
    "        ser.write(bytes([0xAA]))\n",
    "        time.sleep(0.1)\n",
    "        ret = ser.read(ser.in_waiting)\n",
    "        \n",
    "        if ret != b\"\\x10'\\x00\\x00\":\n",
    "            if ret == b'':\n",
    "                crashes += 1\n",
    "                print('.', end = '')\n",
    "            else:\n",
    "                faults += 1\n",
    "                print('Fault?!', int.from_bytes(ret, 'little'), ret.hex(), offsets[offset])\n",
    "            \n",
    "            thorough_reset_dut() \n",
    "            \n",
    "    if offset % 20 == 0:\n",
    "        print('\\n', crashes, faults)\n",
    "                \n",
    "pico.disarm()\n",
    "\n",
    "total = len(offsets)*repeats\n",
    "print(\"\\nTotal # attempts:\", total) \n",
    "print(\"Total # faults: %d (%f%%)\" % (faults, (faults/total)*100))\n",
    "print(\"Total # crashes: %d (%f%%)\" % (crashes, (crashes/total)*100))"
   ]
  }
 ],
 "metadata": {
  "kernelspec": {
   "display_name": "cw",
   "language": "python",
   "name": "python3"
  },
  "language_info": {
   "codemirror_mode": {
    "name": "ipython",
    "version": 3
   },
   "file_extension": ".py",
   "mimetype": "text/x-python",
   "name": "python",
   "nbconvert_exporter": "python",
   "pygments_lexer": "ipython3",
   "version": "3.9.5"
  }
 },
 "nbformat": 4,
 "nbformat_minor": 2
}
